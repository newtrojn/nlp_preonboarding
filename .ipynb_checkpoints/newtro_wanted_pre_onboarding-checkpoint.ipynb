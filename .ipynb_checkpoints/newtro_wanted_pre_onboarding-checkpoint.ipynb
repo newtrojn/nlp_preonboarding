{
 "cells": [
  {
   "cell_type": "code",
   "execution_count": 1,
   "id": "f59ca665-81c9-41fa-a965-0404d6344332",
   "metadata": {},
   "outputs": [],
   "source": [
    "import re\n",
    "import pandas as pd\n",
    "from math import log"
   ]
  },
  {
   "cell_type": "code",
   "execution_count": null,
   "id": "66d985b1-3830-47fa-981d-57e02d6481ff",
   "metadata": {},
   "outputs": [],
   "source": [
    "result = []\n",
    "sequences=['I go to school.','I LIKE Pizza!','Watch OUT!']\n",
    "\n",
    "for i in range(len(sequences)):\n",
    "    result.append(re.findall(\"[\\w]+\", sequences[i]))\n",
    "    print(i)\n",
    "    for j in range(len(result[i])):\n",
    "        print(j)\n",
    "        result[i][j] = result[i][j].lower()\n",
    "print(result)\n",
    "print('---------------------')\n",
    "\n",
    "word_count={}\n",
    "num = 1\n",
    "for i in range(len(result)):\n",
    "    for j in range(len(result[i])):\n",
    "        if result[i][j] not in word_count:\n",
    "            word_count[result[i][j]]= num\n",
    "            num += 1\n",
    "        else :\n",
    "            pass\n",
    "print(word_count)\n",
    "print('---------------------')\n",
    "print(word_count.keys())\n",
    "print('---------------------')\n",
    "result2=[]\n",
    "sequence=['I go to school.','I LIKE Pizza!','Get out']\n",
    "for i in range(len(sequence)):\n",
    "    result2.append(re.findall(\"[\\w]+\", sequence[i]))\n",
    "    print(i)\n",
    "    for j in range(len(result2[i])):\n",
    "        print(j)\n",
    "        result2[i][j] = result2[i][j].lower()\n",
    "test=[]\n",
    "for z in range(len(result2)):\n",
    "    temp=[]\n",
    "    for x in range(len(result2[z])):\n",
    "        print(result2[z][x])\n",
    "        if result2[z][x] in word_count.keys():\n",
    "            print('True')\n",
    "            temp.append(word_count.get(result2[z][x]))\n",
    "        else:\n",
    "            temp.append(' ')\n",
    "    test.append(temp)\n",
    "print(test)"
   ]
  },
  {
   "cell_type": "code",
   "execution_count": 6,
   "id": "11804015-e639-4ebc-95fb-945cb5549d28",
   "metadata": {},
   "outputs": [],
   "source": [
    "class Tokenizer():\n",
    "    def __init__(self):\n",
    "        self.word_dict = {'oov': 0}\n",
    "        self.fit_checker = False\n",
    "  \n",
    "    def preprocessing(self, sequences):\n",
    "        result = []\n",
    "        for i in range(len(sequences)):\n",
    "            result.append(re.findall(\"[\\w]+\", sequences[i]))\n",
    "            for j in range(len(result[i])):\n",
    "                result[i][j] = result[i][j].lower()\n",
    "        return result\n",
    "  \n",
    "    def fit(self, sequences):\n",
    "        self.fit_checker = False\n",
    "        tokens = self.preprocessing(sequences)\n",
    "        num = 1\n",
    "        for i in range(len(tokens)):\n",
    "            for j in range(len(tokens[i])):\n",
    "                if tokens[i][j] not in self.word_dict:\n",
    "                    self.word_dict[tokens[i][j]] = num\n",
    "                    num += 1\n",
    "                else :\n",
    "                    pass\n",
    "        self.fit_checker = True\n",
    "\n",
    "    def transform(self, sequences):\n",
    "        result = []\n",
    "        tokens = self.preprocessing(sequences)\n",
    "        if self.fit_checker:\n",
    "            for z in range(len(tokens)):\n",
    "                temp=[]\n",
    "                for x in range(len(tokens[z])):\n",
    "                    if tokens[z][x] in self.word_dict.keys():\n",
    "                        temp.append(self.word_dict.get(tokens[z][x]))\n",
    "                    else:\n",
    "                        temp.append(self.word_dict.get('oov'))\n",
    "                result.append(temp)\n",
    "            return result\n",
    "        else:\n",
    "            raise Exception(\"Tokenizer instance is not fitted yet.\")\n",
    "\n",
    "    def fit_transform(self, sequences):\n",
    "        self.fit(sequences)\n",
    "        result = self.transform(sequences)\n",
    "        return result"
   ]
  },
  {
   "cell_type": "code",
   "execution_count": null,
   "id": "d73193e2-719f-442e-aefd-efb6cb891cf9",
   "metadata": {},
   "outputs": [],
   "source": [
    "class TfidfVectorizer(Tokenizer):\n",
    "    def __init__(self, tokenizer,idf,tfidf_matrix):\n",
    "        Tokenizer.__init__(self)\n",
    "        self.tokenizer = tokenizer\n",
    "        self.idf = []\n",
    "        self.tfidf_matrix = pd.DataFrame()\n",
    "        self.fit_checker = False\n",
    "  \n",
    "    def fit(self, sequences):\n",
    "        tokenized = self.tokenizer.fit_transform(sequences)\n",
    "        for i in range(len(tokenized)):\n",
    "            t = tokenized[i]\n",
    "            df=0\n",
    "            for j in range(len(sequence)):\n",
    "                df += j in t\n",
    "                self.idf.append(log(len(sequence)/(df+1)))\n",
    "        self.fit_checker = True\n",
    "    \n",
    "\n",
    "    def transform(self, sequences):\n",
    "        if self.fit_checker:\n",
    "            tokenized = self.tokenizer.transform(sequences)\n",
    "      '''\n",
    "      문제 2-2.\n",
    "      '''\n",
    "            return self.tfidf_matrix\n",
    "        else:\n",
    "            raise Exception(\"TfidfVectorizer instance is not fitted yet.\")\n",
    "\n",
    "  \n",
    "    def fit_transform(self, sequences):\n",
    "        self.fit(sequences)\n",
    "        return self.transform(sequences)"
   ]
  },
  {
   "cell_type": "code",
   "execution_count": 12,
   "id": "d74f00e1-565c-42fa-af8b-d176faf9949b",
   "metadata": {},
   "outputs": [
    {
     "name": "stdout",
     "output_type": "stream",
     "text": [
      "[['i', 'go', 'to', 'school'], ['i', 'like', 'pizza'], ['get', 'out']]\n",
      "[[1, 2, 3, 4], [1, 5, 6], [7, 8]]\n"
     ]
    },
    {
     "ename": "ValueError",
     "evalue": "all arrays must be same length",
     "output_type": "error",
     "traceback": [
      "\u001b[1;31m---------------------------------------------------------------------------\u001b[0m",
      "\u001b[1;31mValueError\u001b[0m                                Traceback (most recent call last)",
      "Input \u001b[1;32mIn [12]\u001b[0m, in \u001b[0;36m<module>\u001b[1;34m\u001b[0m\n\u001b[0;32m     12\u001b[0m         df \u001b[38;5;241m+\u001b[39m\u001b[38;5;241m=\u001b[39m j \u001b[38;5;129;01min\u001b[39;00m t\n\u001b[0;32m     13\u001b[0m         result\u001b[38;5;241m.\u001b[39mappend(log(\u001b[38;5;28mlen\u001b[39m(sequence)\u001b[38;5;241m/\u001b[39m(df\u001b[38;5;241m+\u001b[39m\u001b[38;5;241m1\u001b[39m)))\n\u001b[1;32m---> 14\u001b[0m idf_ \u001b[38;5;241m=\u001b[39m \u001b[43mpd\u001b[49m\u001b[38;5;241;43m.\u001b[39;49m\u001b[43mDataFrame\u001b[49m\u001b[43m(\u001b[49m\u001b[43mresult\u001b[49m\u001b[43m,\u001b[49m\u001b[43m \u001b[49m\u001b[43mindex\u001b[49m\u001b[38;5;241;43m=\u001b[39;49m\u001b[43mtoken\u001b[49m\u001b[43m,\u001b[49m\u001b[43m \u001b[49m\u001b[43mcolumns\u001b[49m\u001b[38;5;241;43m=\u001b[39;49m\u001b[43m[\u001b[49m\u001b[38;5;124;43m\"\u001b[39;49m\u001b[38;5;124;43mIDF\u001b[39;49m\u001b[38;5;124;43m\"\u001b[39;49m\u001b[43m]\u001b[49m\u001b[43m)\u001b[49m\n\u001b[0;32m     15\u001b[0m idf_\n",
      "File \u001b[1;32m~\\anaconda3\\lib\\site-packages\\pandas\\core\\frame.py:738\u001b[0m, in \u001b[0;36mDataFrame.__init__\u001b[1;34m(self, data, index, columns, dtype, copy)\u001b[0m\n\u001b[0;32m    730\u001b[0m         mgr \u001b[38;5;241m=\u001b[39m arrays_to_mgr(\n\u001b[0;32m    731\u001b[0m             arrays,\n\u001b[0;32m    732\u001b[0m             columns,\n\u001b[1;32m   (...)\u001b[0m\n\u001b[0;32m    735\u001b[0m             typ\u001b[38;5;241m=\u001b[39mmanager,\n\u001b[0;32m    736\u001b[0m         )\n\u001b[0;32m    737\u001b[0m     \u001b[38;5;28;01melse\u001b[39;00m:\n\u001b[1;32m--> 738\u001b[0m         mgr \u001b[38;5;241m=\u001b[39m \u001b[43mndarray_to_mgr\u001b[49m\u001b[43m(\u001b[49m\n\u001b[0;32m    739\u001b[0m \u001b[43m            \u001b[49m\u001b[43mdata\u001b[49m\u001b[43m,\u001b[49m\n\u001b[0;32m    740\u001b[0m \u001b[43m            \u001b[49m\u001b[43mindex\u001b[49m\u001b[43m,\u001b[49m\n\u001b[0;32m    741\u001b[0m \u001b[43m            \u001b[49m\u001b[43mcolumns\u001b[49m\u001b[43m,\u001b[49m\n\u001b[0;32m    742\u001b[0m \u001b[43m            \u001b[49m\u001b[43mdtype\u001b[49m\u001b[38;5;241;43m=\u001b[39;49m\u001b[43mdtype\u001b[49m\u001b[43m,\u001b[49m\n\u001b[0;32m    743\u001b[0m \u001b[43m            \u001b[49m\u001b[43mcopy\u001b[49m\u001b[38;5;241;43m=\u001b[39;49m\u001b[43mcopy\u001b[49m\u001b[43m,\u001b[49m\n\u001b[0;32m    744\u001b[0m \u001b[43m            \u001b[49m\u001b[43mtyp\u001b[49m\u001b[38;5;241;43m=\u001b[39;49m\u001b[43mmanager\u001b[49m\u001b[43m,\u001b[49m\n\u001b[0;32m    745\u001b[0m \u001b[43m        \u001b[49m\u001b[43m)\u001b[49m\n\u001b[0;32m    746\u001b[0m \u001b[38;5;28;01melse\u001b[39;00m:\n\u001b[0;32m    747\u001b[0m     mgr \u001b[38;5;241m=\u001b[39m dict_to_mgr(\n\u001b[0;32m    748\u001b[0m         {},\n\u001b[0;32m    749\u001b[0m         index,\n\u001b[1;32m   (...)\u001b[0m\n\u001b[0;32m    752\u001b[0m         typ\u001b[38;5;241m=\u001b[39mmanager,\n\u001b[0;32m    753\u001b[0m     )\n",
      "File \u001b[1;32m~\\anaconda3\\lib\\site-packages\\pandas\\core\\internals\\construction.py:347\u001b[0m, in \u001b[0;36mndarray_to_mgr\u001b[1;34m(values, index, columns, dtype, copy, typ)\u001b[0m\n\u001b[0;32m    344\u001b[0m     values \u001b[38;5;241m=\u001b[39m values\u001b[38;5;241m.\u001b[39mreshape(shape)\n\u001b[0;32m    346\u001b[0m \u001b[38;5;66;03m# _prep_ndarray ensures that values.ndim == 2 at this point\u001b[39;00m\n\u001b[1;32m--> 347\u001b[0m index, columns \u001b[38;5;241m=\u001b[39m \u001b[43m_get_axes\u001b[49m\u001b[43m(\u001b[49m\n\u001b[0;32m    348\u001b[0m \u001b[43m    \u001b[49m\u001b[43mvalues\u001b[49m\u001b[38;5;241;43m.\u001b[39;49m\u001b[43mshape\u001b[49m\u001b[43m[\u001b[49m\u001b[38;5;241;43m0\u001b[39;49m\u001b[43m]\u001b[49m\u001b[43m,\u001b[49m\u001b[43m \u001b[49m\u001b[43mvalues\u001b[49m\u001b[38;5;241;43m.\u001b[39;49m\u001b[43mshape\u001b[49m\u001b[43m[\u001b[49m\u001b[38;5;241;43m1\u001b[39;49m\u001b[43m]\u001b[49m\u001b[43m,\u001b[49m\u001b[43m \u001b[49m\u001b[43mindex\u001b[49m\u001b[38;5;241;43m=\u001b[39;49m\u001b[43mindex\u001b[49m\u001b[43m,\u001b[49m\u001b[43m \u001b[49m\u001b[43mcolumns\u001b[49m\u001b[38;5;241;43m=\u001b[39;49m\u001b[43mcolumns\u001b[49m\n\u001b[0;32m    349\u001b[0m \u001b[43m\u001b[49m\u001b[43m)\u001b[49m\n\u001b[0;32m    351\u001b[0m _check_values_indices_shape_match(values, index, columns)\n\u001b[0;32m    353\u001b[0m \u001b[38;5;28;01mif\u001b[39;00m typ \u001b[38;5;241m==\u001b[39m \u001b[38;5;124m\"\u001b[39m\u001b[38;5;124marray\u001b[39m\u001b[38;5;124m\"\u001b[39m:\n",
      "File \u001b[1;32m~\\anaconda3\\lib\\site-packages\\pandas\\core\\internals\\construction.py:756\u001b[0m, in \u001b[0;36m_get_axes\u001b[1;34m(N, K, index, columns)\u001b[0m\n\u001b[0;32m    754\u001b[0m     index \u001b[38;5;241m=\u001b[39m default_index(N)\n\u001b[0;32m    755\u001b[0m \u001b[38;5;28;01melse\u001b[39;00m:\n\u001b[1;32m--> 756\u001b[0m     index \u001b[38;5;241m=\u001b[39m \u001b[43mensure_index\u001b[49m\u001b[43m(\u001b[49m\u001b[43mindex\u001b[49m\u001b[43m)\u001b[49m\n\u001b[0;32m    758\u001b[0m \u001b[38;5;28;01mif\u001b[39;00m columns \u001b[38;5;129;01mis\u001b[39;00m \u001b[38;5;28;01mNone\u001b[39;00m:\n\u001b[0;32m    759\u001b[0m     columns \u001b[38;5;241m=\u001b[39m default_index(K)\n",
      "File \u001b[1;32m~\\anaconda3\\lib\\site-packages\\pandas\\core\\indexes\\base.py:7039\u001b[0m, in \u001b[0;36mensure_index\u001b[1;34m(index_like, copy)\u001b[0m\n\u001b[0;32m   7036\u001b[0m \u001b[38;5;28;01mif\u001b[39;00m \u001b[38;5;28mlen\u001b[39m(index_like) \u001b[38;5;129;01mand\u001b[39;00m lib\u001b[38;5;241m.\u001b[39mis_all_arraylike(index_like):\n\u001b[0;32m   7037\u001b[0m     \u001b[38;5;28;01mfrom\u001b[39;00m \u001b[38;5;21;01mpandas\u001b[39;00m\u001b[38;5;21;01m.\u001b[39;00m\u001b[38;5;21;01mcore\u001b[39;00m\u001b[38;5;21;01m.\u001b[39;00m\u001b[38;5;21;01mindexes\u001b[39;00m\u001b[38;5;21;01m.\u001b[39;00m\u001b[38;5;21;01mmulti\u001b[39;00m \u001b[38;5;28;01mimport\u001b[39;00m MultiIndex\n\u001b[1;32m-> 7039\u001b[0m     \u001b[38;5;28;01mreturn\u001b[39;00m \u001b[43mMultiIndex\u001b[49m\u001b[38;5;241;43m.\u001b[39;49m\u001b[43mfrom_arrays\u001b[49m\u001b[43m(\u001b[49m\u001b[43mindex_like\u001b[49m\u001b[43m)\u001b[49m\n\u001b[0;32m   7040\u001b[0m \u001b[38;5;28;01melse\u001b[39;00m:\n\u001b[0;32m   7041\u001b[0m     \u001b[38;5;28;01mreturn\u001b[39;00m Index\u001b[38;5;241m.\u001b[39m_with_infer(index_like, copy\u001b[38;5;241m=\u001b[39mcopy, tupleize_cols\u001b[38;5;241m=\u001b[39m\u001b[38;5;28;01mFalse\u001b[39;00m)\n",
      "File \u001b[1;32m~\\anaconda3\\lib\\site-packages\\pandas\\core\\indexes\\multi.py:487\u001b[0m, in \u001b[0;36mMultiIndex.from_arrays\u001b[1;34m(cls, arrays, sortorder, names)\u001b[0m\n\u001b[0;32m    485\u001b[0m \u001b[38;5;28;01mfor\u001b[39;00m i \u001b[38;5;129;01min\u001b[39;00m \u001b[38;5;28mrange\u001b[39m(\u001b[38;5;241m1\u001b[39m, \u001b[38;5;28mlen\u001b[39m(arrays)):\n\u001b[0;32m    486\u001b[0m     \u001b[38;5;28;01mif\u001b[39;00m \u001b[38;5;28mlen\u001b[39m(arrays[i]) \u001b[38;5;241m!=\u001b[39m \u001b[38;5;28mlen\u001b[39m(arrays[i \u001b[38;5;241m-\u001b[39m \u001b[38;5;241m1\u001b[39m]):\n\u001b[1;32m--> 487\u001b[0m         \u001b[38;5;28;01mraise\u001b[39;00m \u001b[38;5;167;01mValueError\u001b[39;00m(\u001b[38;5;124m\"\u001b[39m\u001b[38;5;124mall arrays must be same length\u001b[39m\u001b[38;5;124m\"\u001b[39m)\n\u001b[0;32m    489\u001b[0m codes, levels \u001b[38;5;241m=\u001b[39m factorize_from_iterables(arrays)\n\u001b[0;32m    490\u001b[0m \u001b[38;5;28;01mif\u001b[39;00m names \u001b[38;5;129;01mis\u001b[39;00m lib\u001b[38;5;241m.\u001b[39mno_default:\n",
      "\u001b[1;31mValueError\u001b[0m: all arrays must be same length"
     ]
    }
   ],
   "source": [
    "sequence=['I go to school.','I LIKE Pizza!','Get out']\n",
    "T=Tokenizer()\n",
    "tokenized=T.fit_transform(sequence)\n",
    "token=T.preprocessing(sequence)\n",
    "print(token)\n",
    "print(tokenized)\n",
    "result = []\n",
    "for i in range(len(tokenized)):\n",
    "    t = tokenized[i]\n",
    "    df=0\n",
    "    for j in range(len(sequence)):\n",
    "        df += j in t\n",
    "        result.append(log(len(sequence)/(df+1)))\n"
   ]
  },
  {
   "cell_type": "code",
   "execution_count": null,
   "id": "fe910f0b-6e8b-4f55-a671-1285f8da5975",
   "metadata": {},
   "outputs": [],
   "source": [
    "result2 = []\n",
    "token=T.fit(sequence)\n",
    "for i in range(len(sequence)):\n",
    "    result2.append([])\n",
    "    d = sequence[i]\n",
    "    t = token[i]\n",
    "    result2[-1].append(d.count(t)*result[i])\n",
    "\n",
    "tfidf_ = pd.DataFrame(result2, columns = vocab)\n",
    "tfidf_"
   ]
  },
  {
   "cell_type": "code",
   "execution_count": null,
   "id": "0547640a-c834-4110-8124-131d9f811359",
   "metadata": {},
   "outputs": [],
   "source": [
    "import scipy"
   ]
  },
  {
   "cell_type": "code",
   "execution_count": null,
   "id": "f609de2f-608d-448d-9a26-3f1105cc8f73",
   "metadata": {},
   "outputs": [],
   "source": []
  },
  {
   "cell_type": "code",
   "execution_count": null,
   "id": "37ce6a8a-1d6b-446e-b8b9-b377b08dc46d",
   "metadata": {},
   "outputs": [],
   "source": [
    "docs = [\n",
    "  '먹고 싶은 사과',\n",
    "  '먹고 싶은 바나나',\n",
    "  '길고 노란 바나나 바나나',\n",
    "  '저는 과일이 좋아요'\n",
    "] \n",
    "vocab = list(set(w for doc in docs for w in doc.split()))\n",
    "vocab.sort()\n",
    "print(vocab)"
   ]
  },
  {
   "cell_type": "code",
   "execution_count": null,
   "id": "08111cf4-b400-41b5-a277-925a834a73cf",
   "metadata": {},
   "outputs": [],
   "source": [
    "N = len(docs) \n",
    "\n",
    "def tf(t, d):\n",
    "    return d.count(t)\n",
    "\n",
    "def idf(t):\n",
    "    df = 0\n",
    "    for doc in docs:\n",
    "        df += t in doc\n",
    "    return log(N/(df+1))\n",
    "\n",
    "def tfidf(t, d):\n",
    "    return tf(t,d)* idf(t)"
   ]
  },
  {
   "cell_type": "code",
   "execution_count": null,
   "id": "19b08845-a10b-46d5-82c0-040eb266398f",
   "metadata": {},
   "outputs": [],
   "source": []
  },
  {
   "cell_type": "code",
   "execution_count": null,
   "id": "037ec5c4-4a75-4dff-aa1d-ed292973f0b3",
   "metadata": {},
   "outputs": [],
   "source": []
  }
 ],
 "metadata": {
  "kernelspec": {
   "display_name": "Python 3 (ipykernel)",
   "language": "python",
   "name": "python3"
  },
  "language_info": {
   "codemirror_mode": {
    "name": "ipython",
    "version": 3
   },
   "file_extension": ".py",
   "mimetype": "text/x-python",
   "name": "python",
   "nbconvert_exporter": "python",
   "pygments_lexer": "ipython3",
   "version": "3.8.12"
  }
 },
 "nbformat": 4,
 "nbformat_minor": 5
}
