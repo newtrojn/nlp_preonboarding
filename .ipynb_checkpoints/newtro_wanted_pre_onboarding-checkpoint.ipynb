{
 "cells": [
  {
   "cell_type": "code",
   "execution_count": 1,
   "id": "f59ca665-81c9-41fa-a965-0404d6344332",
   "metadata": {},
   "outputs": [],
   "source": [
    "import re\n",
    "import pandas as pd\n",
    "from math import log\n",
    "import numpy as np"
   ]
  },
  {
   "cell_type": "code",
   "execution_count": 2,
   "id": "11804015-e639-4ebc-95fb-945cb5549d28",
   "metadata": {},
   "outputs": [],
   "source": [
    "class Tokenizer():\n",
    "    def __init__(self):\n",
    "        self.word_dict = {'oov': 0}\n",
    "        self.fit_checker = False\n",
    "  \n",
    "    def preprocessing(self, sequences):\n",
    "        result = []\n",
    "        for i in range(len(sequences)):\n",
    "            result.append(re.findall(\"[\\w]+\", sequences[i]))\n",
    "            for j in range(len(result[i])):\n",
    "                result[i][j] = result[i][j].lower()\n",
    "        return result\n",
    "  \n",
    "    def fit(self, sequences):\n",
    "        self.fit_checker = False\n",
    "        tokens = self.preprocessing(sequences)\n",
    "        num = 1\n",
    "        for i in range(len(tokens)):\n",
    "            for j in range(len(tokens[i])):\n",
    "                if tokens[i][j] not in self.word_dict:\n",
    "                    self.word_dict[tokens[i][j]] = num\n",
    "                    num += 1\n",
    "                else :\n",
    "                    pass\n",
    "        self.fit_checker = True\n",
    "\n",
    "    def transform(self, sequences):\n",
    "        result = []\n",
    "        tokens = self.preprocessing(sequences)\n",
    "        if self.fit_checker:\n",
    "            for z in range(len(tokens)):\n",
    "                temp=[]\n",
    "                for x in range(len(tokens[z])):\n",
    "                    if tokens[z][x] in self.word_dict.keys():\n",
    "                        temp.append(self.word_dict.get(tokens[z][x]))\n",
    "                    else:\n",
    "                        temp.append(self.word_dict.get('oov'))\n",
    "                result.append(temp)\n",
    "            return result\n",
    "        else:\n",
    "            raise Exception(\"Tokenizer instance is not fitted yet.\")\n",
    "\n",
    "    def fit_transform(self, sequences):\n",
    "        self.fit(sequences)\n",
    "        result = self.transform(sequences)\n",
    "        return result"
   ]
  },
  {
   "cell_type": "code",
   "execution_count": 3,
   "id": "d73193e2-719f-442e-aefd-efb6cb891cf9",
   "metadata": {},
   "outputs": [],
   "source": [
    "class TfidfVectorizer:\n",
    "    def __init__(self,tokenizer):\n",
    "        self.tokenizer = tokenizer\n",
    "        self.fit_checker = False\n",
    "  \n",
    "    def fit(self, sequences):\n",
    "        tokenized = self.tokenizer.fit_transform(sequences)\n",
    "        self.vocab = list(self.tokenizer.word_dict.keys())\n",
    "        self.token = self.tokenizer.preprocessing(sequences)\n",
    "        self.idf = []\n",
    "        for t in self.vocab:\n",
    "            df=0\n",
    "            for j in self.token:\n",
    "                if t in j:\n",
    "                    df=df+1\n",
    "                else :\n",
    "                    pass\n",
    "            self.idf.append(log(len(sequences)/(df+1)))\n",
    "        self.fit_checker = True\n",
    "\n",
    "    def transform(self, sequences):\n",
    "        if self.fit_checker:\n",
    "            result =[]\n",
    "            tokenized = self.tokenizer.transform(sequences)\n",
    "            #token = self.tokenizer.preprocessing(sequences)\n",
    "            #vocab = list(self.tokenizer.word_dict.keys())\n",
    "            for i in range(len(tokenized)):\n",
    "                result.append([])\n",
    "                d = self.token[i]\n",
    "                for j in range(len(self.vocab)):\n",
    "                    t = self.vocab[j]\n",
    "                    result[-1].append(d.count(t))\n",
    "            tf_ = np.array(result)\n",
    "            idf_ = np.array(self.idf)\n",
    "            self.tfidf_matrix = pd.DataFrame(tf_ * idf_.transpose(), columns=self.vocab)\n",
    "            return self.tfidf_matrix\n",
    "        else:\n",
    "            raise Exception(\"TfidfVectorizer instance is not fitted yet.\")\n",
    "\n",
    "  \n",
    "    def fit_transform(self, sequences):\n",
    "        self.fit(sequences)\n",
    "        return self.transform(sequences)"
   ]
  },
  {
   "cell_type": "code",
   "execution_count": 4,
   "id": "2daa30f4-954a-4d6b-8eb9-754b51925a01",
   "metadata": {},
   "outputs": [
    {
     "name": "stdout",
     "output_type": "stream",
     "text": [
      "[[1, 2, 3, 4], [1, 5, 6], [7, 8], [9, 8]]\n",
      "   oov         i        go        to    school      like     pizza       get  \\\n",
      "0  0.0  0.287682  0.693147  0.693147  0.693147  0.000000  0.000000  0.000000   \n",
      "1  0.0  0.287682  0.000000  0.000000  0.000000  0.693147  0.693147  0.000000   \n",
      "2  0.0  0.000000  0.000000  0.000000  0.000000  0.000000  0.000000  0.693147   \n",
      "3  0.0  0.000000  0.000000  0.000000  0.000000  0.000000  0.000000  0.000000   \n",
      "\n",
      "        out     watch  \n",
      "0  0.000000  0.000000  \n",
      "1  0.000000  0.000000  \n",
      "2  0.287682  0.000000  \n",
      "3  0.287682  0.693147  \n"
     ]
    }
   ],
   "source": [
    "sequence=['I go to school.','I LIKE Pizza!','Get out','Watch out!!']\n",
    "T=Tokenizer()\n",
    "print(T.fit_transform(sequence))\n",
    "C=TfidfVectorizer(T)\n",
    "print(C.fit_transform(sequence))"
   ]
  },
  {
   "cell_type": "code",
   "execution_count": null,
   "id": "39cf33a2-25c4-4912-b0dc-55ba3f7f5853",
   "metadata": {},
   "outputs": [],
   "source": []
  }
 ],
 "metadata": {
  "kernelspec": {
   "display_name": "Python 3 (ipykernel)",
   "language": "python",
   "name": "python3"
  },
  "language_info": {
   "codemirror_mode": {
    "name": "ipython",
    "version": 3
   },
   "file_extension": ".py",
   "mimetype": "text/x-python",
   "name": "python",
   "nbconvert_exporter": "python",
   "pygments_lexer": "ipython3",
   "version": "3.8.12"
  }
 },
 "nbformat": 4,
 "nbformat_minor": 5
}
