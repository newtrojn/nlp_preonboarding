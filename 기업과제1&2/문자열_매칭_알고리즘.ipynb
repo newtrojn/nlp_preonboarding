{
  "nbformat": 4,
  "nbformat_minor": 0,
  "metadata": {
    "colab": {
      "name": "최지나_문자열 매칭 알고리즘.ipynb",
      "provenance": [],
      "collapsed_sections": [],
      "authorship_tag": "ABX9TyPByKnckRsCdQI+a2vQ5xuS"
    },
    "kernelspec": {
      "name": "python3",
      "display_name": "Python 3"
    },
    "language_info": {
      "name": "python"
    }
  },
  "cells": [
    {
      "cell_type": "code",
      "execution_count": null,
      "metadata": {
        "id": "mLcMUZmVSOft"
      },
      "outputs": [],
      "source": [
        "import pandas as pd\n",
        "import numpy as np\n",
        "import random\n",
        "import string"
      ]
    },
    {
      "cell_type": "code",
      "source": [
        "#첫째 줄에 집합 S의 크기 N이 주어진다.(1=<N=<1000)\n",
        "#N개 줄에 집합 S의 원소들이 주어진다. 이 문자열의 길이(length_of_string) <100\n",
        "#다음 줄에 답을 판별해야하는 문자열의 개수 Q가 주어진다.(1=<Q=<1000)\n",
        "#Q개 줄에 답을 판별해야하는 문자열이 주어진다. 이 문자열의 길이(length_of_string) <10000\n",
        "\n",
        "#S 집합 생성\n",
        "N = random.randrange(1, 1001)\n",
        "S=[]\n",
        "for x in range(N):\n",
        "  length_of_string = random.randrange(1,101)\n",
        "  S.append(''.join(random.choice(string.ascii_lowercase) for _ in range(length_of_string)))\n",
        "print(N,\"(문자열 집합S의 원소개수)\")\n",
        "print(\"문자열 집합 S:\",S)\n",
        "\n",
        "#Q 집합 생성\n",
        "Q = random.randrange(1, 1001)\n",
        "Q_list=[]\n",
        "for x in range(Q):\n",
        "  length_of_string = random.randrange(1,10001)\n",
        "  Q_list.append(''.join(random.choice(string.ascii_lowercase) for _ in range(length_of_string)))\n",
        "print(Q,\"(매칭 대상 문자열 수)\")\n",
        "print(\"매칭 대상 문자열 Q_list:\",Q_list)\n",
        "\n",
        "#문제1: 문자열의 여러 부분 문자열 중 하나라도 집합 S에 있으면 'YES'를 출력하고, 아무것도 없으면 'NO'를 출력한다.\n",
        "\n",
        "def kmp_table(pattern): #실패 테이블 생성\n",
        "  lp = len(pattern)\n",
        "  tb = [0]*lp\n",
        "  pidx=0\n",
        "  for idx in range(1,lp):\n",
        "    while pidx > 0 and pattern[idx] != pattern[pidx]:\n",
        "      pidx=tb[pidx-1]\n",
        "    if pattern[idx] == pattern[pidx]:\n",
        "      pidx += 1\n",
        "      tb[idx] = pidx\n",
        "  return tb\n",
        "\n",
        "def kmp_1(word, pattern): #문제 1을 위한 kmp 알고리즘\n",
        "  pidx=0\n",
        "  table=kmp_table(pattern)\n",
        "\n",
        "  for idx in range(len(word)):\n",
        "    while pidx > 0 and word[idx] != pattern[pidx]:\n",
        "      pidx=table[pidx-1]\n",
        "      if idx == len(word)-1:\n",
        "        print(\"No\")\n",
        "\n",
        "    if word[idx] == pattern[pidx] and idx == len(word)-1:\n",
        "      print(\"Yes\")\n",
        "      break      \n",
        "\n",
        "    if word[idx]==pattern[pidx]:\n",
        "      if pidx==len(pattern)-1:\n",
        "        pidx=table[pidx]\n",
        "        print(\"Yes\")\n",
        "        break \n",
        "      else :\n",
        "        pidx +=1\n",
        "  \n",
        "    while pidx == 0 and word[idx] != pattern[pidx] and idx == len(word)-1:\n",
        "      print(\"No\")\n",
        "      break\n",
        "\n",
        "for i in range(len(Q_list)):\n",
        "  print(S[i])\n",
        "  for j in range(len(S)):\n",
        "    kmp_1(Q_list[i],S[j])"
      ],
      "metadata": {
        "id": "efLECBxgTecm"
      },
      "execution_count": null,
      "outputs": []
    }
  ]
}