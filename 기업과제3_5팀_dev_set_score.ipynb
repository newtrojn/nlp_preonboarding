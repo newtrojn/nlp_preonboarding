{
 "cells": [
  {
   "cell_type": "code",
   "execution_count": 1,
   "id": "4d07a1a3-5d9f-42a9-ac19-bb08d8bb7d30",
   "metadata": {},
   "outputs": [],
   "source": [
    "import pandas as pd\n",
    "from datasets import load_metric\n",
    "import json"
   ]
  },
  {
   "cell_type": "markdown",
   "id": "efc80efb-2023-4736-b000-eb953e03884e",
   "metadata": {},
   "source": [
    "## 실제 데이터 값과 모델 예측값을 불러와서 metric 계산"
   ]
  },
  {
   "cell_type": "code",
   "execution_count": 3,
   "id": "68990c5d-7477-4f47-bb2f-0f3a19f807e6",
   "metadata": {},
   "outputs": [],
   "source": [
    "# csv 불러오기\n",
    "predict_label = pd.read_csv('기업과제3_5팀_dev_set_score.csv')\n",
    "\n",
    "guid = predict_label['guid']\n",
    "true_real_label = predict_label['true_real_label']\n",
    "true_binary_label = predict_label['true_binary_label']\n",
    "predict_real_label = predict_label['predict_real_label']\n",
    "predict_binary_label = predict_label['predict_binary_label']"
   ]
  },
  {
   "cell_type": "code",
   "execution_count": 4,
   "id": "01b75428-aec6-4722-aa68-e681753e7b95",
   "metadata": {},
   "outputs": [],
   "source": [
    "# 실제 값\n",
    "\n",
    "real_label_list = []\n",
    "binary_label_list = []\n",
    "\n",
    "test_file = './dataset/klue-sts-v1.1_dev.json'\n",
    "with open(test_file,'r') as f:\n",
    "    json_data = json.load(f)\n",
    "for row in json_data:\n",
    "    real_label = row['labels']['real-label']\n",
    "    binary_label = row['labels']['binary-label']\n",
    "    real_label_list.append(real_label)\n",
    "    binary_label_list.append(binary_label)"
   ]
  },
  {
   "cell_type": "code",
   "execution_count": 5,
   "id": "bd3bdb87-f9e9-44fd-9b6a-67c083866b20",
   "metadata": {},
   "outputs": [],
   "source": [
    "def compute_metrics(predictions, references):\n",
    "    metric_pearsonr = load_metric('pearsonr')\n",
    "    metric_f1 = load_metric('f1')\n",
    "    \n",
    "    pr = metric_pearsonr.compute(predictions=predictions,\n",
    "                                  references=references)\n",
    "\n",
    "    f1 = metric_f1.compute(predictions=predictions,\n",
    "                                  references=references, average = 'weighted')\n",
    "    return pr, f1"
   ]
  },
  {
   "cell_type": "markdown",
   "id": "e997a428-1db7-48d5-8757-7421b6dc7dcd",
   "metadata": {},
   "source": [
    "## real_label score"
   ]
  },
  {
   "cell_type": "code",
   "execution_count": 6,
   "id": "e0e7f3b6-4fe8-40cb-946d-4c4bacf4dab6",
   "metadata": {},
   "outputs": [
    {
     "data": {
      "text/plain": [
       "({'pearsonr': 0.8332150964315563}, {'f1': 0.498025589418625})"
      ]
     },
     "execution_count": 6,
     "metadata": {},
     "output_type": "execute_result"
    }
   ],
   "source": [
    "compute_metrics(predict_real_label, true_real_label)"
   ]
  },
  {
   "cell_type": "markdown",
   "id": "01e6d59e-8168-492d-9082-02b6b8be1c92",
   "metadata": {},
   "source": [
    "# binary_label score"
   ]
  },
  {
   "cell_type": "code",
   "execution_count": 7,
   "id": "af8eefd7-3ccb-4aee-b17f-6c207b93d219",
   "metadata": {},
   "outputs": [
    {
     "data": {
      "text/plain": [
       "({'pearsonr': 0.7126631020488958}, {'f1': 0.8465555650132105})"
      ]
     },
     "execution_count": 7,
     "metadata": {},
     "output_type": "execute_result"
    }
   ],
   "source": [
    "compute_metrics(predict_binary_label, true_binary_label)"
   ]
  },
  {
   "cell_type": "code",
   "execution_count": null,
   "id": "8c5dc42a-270a-4d12-8b8c-dea7554cdc11",
   "metadata": {},
   "outputs": [],
   "source": []
  }
 ],
 "metadata": {
  "kernelspec": {
   "display_name": "wanted",
   "language": "python",
   "name": "wanted"
  },
  "language_info": {
   "codemirror_mode": {
    "name": "ipython",
    "version": 3
   },
   "file_extension": ".py",
   "mimetype": "text/x-python",
   "name": "python",
   "nbconvert_exporter": "python",
   "pygments_lexer": "ipython3",
   "version": "3.8.12"
  }
 },
 "nbformat": 4,
 "nbformat_minor": 5
}
